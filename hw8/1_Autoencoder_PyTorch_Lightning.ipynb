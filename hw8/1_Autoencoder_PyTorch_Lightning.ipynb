{
 "cells": [
  {
   "cell_type": "markdown",
   "metadata": {
    "id": "TIRRs51WXAIf"
   },
   "source": [
    "# Autoencoder for MNIST in Pytorch Lightning\n",
    "\n",
    "In this notebook,you will train an autoencoder for the MNIST dataset, which is a dataset of handwritten digits. This is the last exercise where we will provide a structured skeleton. For future exercises, we will only provide the dataset, task as well as a test scenario for you to challenge yourself against your peers on our leaderboards.\n",
    "\n",
    "You will use the PyTorch Lightning framework which makes everything much more convenient! In case you haven't done yet, you should definitely check out the **PyTorch Lightning Introduction** in **Exercise 7**! However, you will mostly design the network architectures as well as be left of to choose suitable hyperparameters for the task at handy, so superficial knowledge of pytorch lightning will suffice.\n",
    "\n",
    "## What we will do:\n",
    "\n",
    "One application of autoencoders is unsupervised pretraining with unlabeled data and then finetuning the encoder with labeled data. This can increase our performance if there is only little labeled data but a lot of unlabeled data available.\n",
    "\n",
    "In this exercise you use the MNIST dataset with 60,000 images of handwritten digits, but you do not have all the labels available.\n",
    "\n",
    "You will then train our autoencoder to reproduce the unlabeled images. \n",
    "\n",
    "Then you will transfer the pretrained encoder weights and finetune a classifier on the labeled data for classifying the handwritten digits. This is called **transfer learning**."
   ]
  },
  {
   "cell_type": "markdown",
   "metadata": {
    "id": "37xkk9Y3XAIj"
   },
   "source": [
    "**Note**: If you are running this in a google colab notebook, we recommend you enable GPU usage:\n",
    "\n",
    "> **Runtime** â€†â€†â†’â€†â€† **Change runtime type** â€†â€†â†’â€†â€† **Hardware Accelerator: GPU**\n",
    "\n",
    "If you are running in colab, you should install the dependencies by running the following cell:"
   ]
  },
  {
   "cell_type": "code",
   "execution_count": 2,
   "metadata": {
    "id": "Jwyct5WjXAIk"
   },
   "outputs": [],
   "source": [
    "#!pip uninstall pytorch-lightning\n",
    "#!pip install pytorch-lightning"
   ]
  },
  {
   "cell_type": "markdown",
   "metadata": {
    "id": "hEDWAZ7-ZA4E"
   },
   "source": [
    "# Imports"
   ]
  },
  {
   "cell_type": "code",
   "execution_count": 3,
   "metadata": {
    "id": "dJCiVLV5o9QO"
   },
   "outputs": [],
   "source": [
    "import numpy as np\n",
    "import os\n",
    "import matplotlib.pyplot as plt\n",
    "\n",
    "import torch\n",
    "\n",
    "from torchvision import transforms\n",
    "import pytorch_lightning as pl\n",
    "from exercise_code.image_folder_dataset import ImageFolderDataset\n",
    "from pytorch_lightning.loggers import TensorBoardLogger\n",
    "torch.manual_seed(42)\n",
    "\n",
    "%load_ext autoreload\n",
    "%autoreload 2"
   ]
  },
  {
   "cell_type": "markdown",
   "metadata": {
    "id": "dvaj6myXS7nN"
   },
   "source": [
    "<div class=\"alert alert-warning\">\n",
    "    <h3>Note: Google Colab</h3>\n",
    "    <p>\n",
    "In case you don't have a GPU, you can run this notebook on Google Colab where you can access a GPU for free, but, of course, you can also run this notebook on your CPU.\n",
    "         </p>\n",
    "</div>"
   ]
  },
  {
   "cell_type": "code",
   "execution_count": 4,
   "metadata": {
    "id": "VWgm75NnS9hr"
   },
   "outputs": [
    {
     "name": "stdout",
     "output_type": "stream",
     "text": [
      "cuda\n"
     ]
    }
   ],
   "source": [
    "device = torch.device(\"cuda\" if torch.cuda.is_available() else \"cpu\")\n",
    "print(device)"
   ]
  },
  {
   "cell_type": "markdown",
   "metadata": {
    "id": "Pm_rTAPnpsUo"
   },
   "source": [
    "## Setup TensorBoard\n",
    "In exercise 07 you've already learned how to use TensorBoard. Let's use it again to make the debugging of our network and training process more convenient! Throughout this notebook, feel free to add further logs or visualizations to your TensorBoard!"
   ]
  },
  {
   "cell_type": "code",
   "execution_count": 5,
   "metadata": {
    "id": "NV8ETXUQXAIo"
   },
   "outputs": [],
   "source": [
    "# %load_ext tensorboard\n",
    "# %tensorboard --logdir lightning_logs --port 6005"
   ]
  },
  {
   "cell_type": "markdown",
   "metadata": {
    "id": "AgM1jfAcXAIp"
   },
   "source": [
    "# 1. The MNIST Dataset\n",
    "\n",
    "First, you download the dataset. MNIST is a dataset of 60,000 images depicting handwritten digits. However, as with most datasets, labeling is a costly process and therefore we are left in a pickle.\n",
    "\n",
    "A good starting point is to label a small subset of your images. You either do this yourself but in this instance we consider the case where you hired another student to do it for you. After writing a labeling tool and some time, you are provided with 300 labeled images of which 100 will be used for training, 100 for validation, and 100 for testing. A problematic small number...\n",
    "\n",
    "Feel free to define some transforms now or later (you can also pass without any transforms).\n",
    "\n",
    "**Note**: We do **NOT** apply any transformations to test set at the time of final evaluation on the server."
   ]
  },
  {
   "cell_type": "code",
   "execution_count": 6,
   "metadata": {
    "id": "cvIxj8vuXAIp",
    "pycharm": {
     "name": "#%%\n"
    }
   },
   "outputs": [
    {
     "name": "stdout",
     "output_type": "stream",
     "text": [
      "Found dataset folder. Skipped downloading. If you face issues, please re-download the dataset using\n",
      "'--force_download=True'\n",
      "http://i2dl.vc.in.tum.de/static/data/mnist.zip\n",
      "Found dataset folder. Skipped downloading. If you face issues, please re-download the dataset using\n",
      "'--force_download=True'\n",
      "http://i2dl.vc.in.tum.de/static/data/mnist.zip\n",
      "Found dataset folder. Skipped downloading. If you face issues, please re-download the dataset using\n",
      "'--force_download=True'\n",
      "http://i2dl.vc.in.tum.de/static/data/mnist.zip\n",
      "Found dataset folder. Skipped downloading. If you face issues, please re-download the dataset using\n",
      "'--force_download=True'\n",
      "http://i2dl.vc.in.tum.de/static/data/mnist.zip\n",
      "Found dataset folder. Skipped downloading. If you face issues, please re-download the dataset using\n",
      "'--force_download=True'\n",
      "http://i2dl.vc.in.tum.de/static/data/mnist.zip\n"
     ]
    }
   ],
   "source": [
    "########################################################################\n",
    "# TODO: Feel free to define transforms                                 #\n",
    "########################################################################\n",
    "\n",
    "transform = None\n",
    "\n",
    "########################################################################\n",
    "#                           END OF YOUR CODE                           #\n",
    "########################################################################\n",
    "\n",
    "\n",
    "i2dl_exercises_path = os.path.dirname(os.path.abspath(os.getcwd()))\n",
    "mnist_root = os.path.join(i2dl_exercises_path, \"datasets\", \"mnist\")\n",
    "\n",
    "train = ImageFolderDataset(root=mnist_root,images='train_images.pt',labels='train_labels.pt',force_download=False,verbose=True,transform=transform)\n",
    "val = ImageFolderDataset(root=mnist_root,images='val_images.pt',labels='val_labels.pt',force_download=False,verbose=True,transform=transform)\n",
    "test = ImageFolderDataset(root=mnist_root,images='test_images.pt',labels='test_labels.pt',force_download=False,verbose=True,transform=transform)\n",
    "\n",
    "# We also set up the unlabeled images which we will use later\n",
    "unlabeled_train = ImageFolderDataset(root=mnist_root,images='unlabeled_train_images.pt',force_download=False,verbose=True,transform=transform)\n",
    "unlabeled_val = ImageFolderDataset(root=mnist_root,images='unlabeled_val_images.pt',force_download=False,verbose=True,transform=transform)"
   ]
  },
  {
   "cell_type": "markdown",
   "metadata": {
    "id": "UhjeLIytXAIq"
   },
   "source": [
    "The dataset consists of tuples of 28x28 pixel PIL images and a label that is an integer from 0 to 9. \n",
    "\n",
    "Let's turn a few of the images into numpy arrays, to look at their shape and visualize them and see if the labels we paid for are correct."
   ]
  },
  {
   "cell_type": "code",
   "execution_count": 7,
   "metadata": {
    "id": "U_aiSDRoXAIq"
   },
   "outputs": [
    {
     "name": "stdout",
     "output_type": "stream",
     "text": [
      "The shape of our greyscale images:  (28, 28)\n"
     ]
    },
    {
     "data": {
      "image/png": "[encoded data removed]",
      "text/plain": [
       "<Figure size 432x432 with 9 Axes>"
      ]
     },
     "metadata": {
      "needs_background": "light"
     },
     "output_type": "display_data"
    }
   ],
   "source": [
    "plt.rcParams['figure.figsize'] = (6,6) # Make the figures a bit bigger\n",
    "\n",
    "for i in range(9):\n",
    "    image = np.array(train[i][0].squeeze()) # get the image of the data sample\n",
    "    label = train[i][1] # get the label of the data sample\n",
    "    plt.subplot(3,3,i+1)\n",
    "    plt.imshow(image, cmap='gray', interpolation='none')\n",
    "    plt.title(\"Class {}\".format(label))\n",
    "    \n",
    "plt.tight_layout()\n",
    "print('The shape of our greyscale images: ', image.shape)"
   ]
  },
  {
   "cell_type": "markdown",
   "metadata": {
    "id": "V9sz_lHyqJoj"
   },
   "source": [
    "<div class=\"alert alert-warning\">\n",
    "    <h3>Note: Starting Simple</h3>\n",
    "    <p>\n",
    "Regardless of the size of our dataset, the first step we have to take is to evaluate the performance of a simple classifier. Always approach a problem with a simple approach first and go from there to see which changes are helping you.\n",
    "         </p>\n",
    "</div>\n",
    "\n",
    "# 2. A Simple Classifier\n",
    "\n",
    "In `exercise_code/models.py` we prepared all classes for you which you will finalize throughout the notebook to build an Autoencoder and an image classifier with Pytorch Lightning. If you are unfamiliar with Pytorch Lightning, you can check out the notebook from the last exercise.\n",
    "\n",
    "![network_split](img/network_split.png)\n",
    "\n",
    "## 2.1 The Encoder\n",
    "\n",
    "Different to previous models, we are going to split up our model into two parts: the so called `encoder` and the `classifier`. The `classifier` has a static task as it will output our predictions given a one-dimensional input. The `encoder`'s task is to extract meaningful information out of our input so that the classifier can make a proper decision. Right now however, both networks will be consisting of linear layers coupled with auxiliary ones and therefore won't be too different in their design. This split-up will be relevant later, e.g., by using convolutional layers which are introduced in the lecture. We are going to set up the `encoder` now. \n",
    "\n",
    "Think about a good network architecture. You're completely free here and can come up with any network you like! (\\*)\n",
    "\n",
    "Have a look at the documentation of `torch.nn` at https://pytorch.org/docs/stable/nn.html to learn how to use this module to build your network!\n",
    "\n",
    "Then implement your architecture: initialize it in `__init__()` and assign it to `self.model`. This is particularly easy using `nn.Sequential()` which you only have to pass the list of your layers. \n",
    "\n",
    "To make your model customizable and support parameter search, don't use hardcoded hyperparameters - instead, pass them as dictionary `hparams` (here, `n_hidden` is the number of neurons in the hidden layer) when initializing `models`.\n",
    "\n",
    "Here's an simple example:\n",
    "\n",
    "```python\n",
    "        self.model = nn.Sequential(\n",
    "            nn.Linear(input_size, self.hparams[\"n_hidden\"]),\n",
    "            nn.ReLU(),            \n",
    "            nn.Linear(self.hparams[\"n_hidden\"], num_classes)\n",
    "        )\n",
    "```\n",
    "\n",
    "Have a look at the forward path in `forward(self, x)`, which is so easy that you don't need to implement it yourself.\n",
    "\n",
    "As PyTorch automatically computes the gradients, that's all we need to do! No need to manually calculate derivatives for the backward paths anymore! :)\n",
    "\n",
    "\n",
    "____\n",
    "\\* *The size of your final model must be less than 20 MB, which is approximately equivalent to 5 Mio. params. Note that this limit is quite lenient, you will probably need much less parameters!*\n",
    "\n",
    "*In order to keep things simple, you should only use fully connected layers for this task as we need to revert the encoder architecture  later on in the notebook.*\n",
    "\n",
    "<div class=\"alert alert-info\">\n",
    "    <h3>Task: Implement</h3>\n",
    "    <p>Implement the <code>Encoder</code> class initialization in <code>exercise_code/models.py</code>.\n",
    "    </p>\n",
    "</div>"
   ]
  },
  {
   "cell_type": "markdown",
   "metadata": {
    "id": "bOYbUg8lAmgU"
   },
   "source": [
    "## 2.2 The Classifier\n",
    "\n",
    "Now we are implementing our classifier. It will use the encoder network that you have defined in the above cell. By looking at `Classifier.forward`, you can see that we are simply chaining the `classifier` as well as the `encoder` together. Therefore, you have to match the input shape of the classifier to the output shape of your encoder implemented above. \n",
    "\n",
    "<div class=\"alert alert-info\">\n",
    "    <h3>Task: Implement</h3>\n",
    "    <p>Implement the <code>Classifier</code> class network initialization in <code>exercise_code/models.py</code>.\n",
    "    </p>\n",
    "</div>\n",
    "\n",
    "## 2.3 Training & Validation Step\n",
    "\n",
    "In pytorch lightning, you only have to provide a training step and a validation step. We implemented both for you, but please check the codes out to make sure that you understand them.\n",
    "\n",
    "\n",
    "<div class=\"alert alert-success\">\n",
    "    <h3>Task: Check Code</h3>\n",
    "    <p>Have a look at the functions <code>training_step</code> and <code>validation_step</code> of the <code>Classifier</code> class in <code>exercise_code/models.py</code>, that take a batch as input and calculate the loss. \n",
    " </p>\n",
    "</div>\n",
    "\n",
    "## 2.4 Optimizer\n",
    "Lastly, implement the function `configure_optimizers()` to define your optimizer. Here the documentation of `torch.optim`at https://pytorch.org/docs/stable/optim.html might be helpful.\n",
    "\n",
    "<div class=\"alert alert-info\">\n",
    "    <h3>Task: Implement</h3>\n",
    "    <p>Implement the <code>configure_optimizers</code> method of the <code>Classifier</code> in <code>exercise_code/models.py</code>.\n",
    "    </p>\n",
    "</div>\n",
    "\n"
   ]
  },
  {
   "cell_type": "code",
   "execution_count": 10,
   "metadata": {
    "id": "s7BAx0AZXAIs",
    "pycharm": {
     "name": "#%%\n"
    }
   },
   "outputs": [],
   "source": [
    "from exercise_code.models import Encoder\n",
    "from exercise_code.models import Classifier\n",
    "\n",
    "########################################################################\n",
    "# TODO: Define your hyper parameters here!                             #\n",
    "########################################################################\n",
    "\n",
    "hparams_for_encoder = {'n_hidden':[512,256,64], 'batch_size':32}\n",
    "hparams_for_classifier = {'n_hidden':[40,20], 'batch_size':32}\n",
    "########################################################################\n",
    "#                           END OF YOUR CODE                           #\n",
    "########################################################################\n",
    "\n",
    "encoder = Encoder(hparams_for_encoder)\n",
    "classifier = Classifier(hparams_for_classifier, encoder, train, val, test)"
   ]
  },
  {
   "cell_type": "code",
   "execution_count": 8,
   "metadata": {},
   "outputs": [
    {
     "data": {
      "text/plain": [
       "'1.20.1'"
      ]
     },
     "execution_count": 8,
     "metadata": {},
     "output_type": "execute_result"
    }
   ],
   "source": [
    "np.__version__"
   ]
  },
  {
   "cell_type": "markdown",
   "metadata": {
    "id": "iopuWivWXAIs"
   },
   "source": [
    "## 2.5 Fit Classification Model with Trainer\n",
    "Now it's time to train your model.\n",
    "\n",
    "Have a look of the documentation of `pl.Trainer` at https://pytorch-lightning.readthedocs.io/en/latest/common/trainer.html to find out which arguments you can pass to define your training process.\n",
    "\n",
    "Then, you can start the training with `trainer.fit(classifier)` and have a look at the loss and the training accuracy in TensorBoard."
   ]
  },
  {
   "cell_type": "code",
   "execution_count": 13,
   "metadata": {
    "id": "i5id52-HXAIs",
    "pycharm": {
     "name": "#%%\n"
    }
   },
   "outputs": [
    {
     "name": "stderr",
     "output_type": "stream",
     "text": [
      "GPU available: True, used: True\n",
      "TPU available: False, using: 0 TPU cores\n",
      "IPU available: False, using: 0 IPUs\n",
      "HPU available: False, using: 0 HPUs\n",
      "LOCAL_RANK: 0 - CUDA_VISIBLE_DEVICES: [0]\n",
      "\n",
      "  | Name    | Type       | Params\n",
      "---------------------------------------\n",
      "0 | encoder | Encoder    | 550 K \n",
      "1 | model   | Sequential | 1.9 K \n",
      "---------------------------------------\n",
      "552 K     Trainable params\n",
      "0         Non-trainable params\n",
      "552 K     Total params\n",
      "2.211     Total estimated model params size (MB)\n"
     ]
    },
    {
     "name": "stdout",
     "output_type": "stream",
     "text": [
      "Epoch 14: 100%|██████████| 8/8 [00:01<00:00,  4.10it/s, loss=0.0251, v_num=30] \n",
      "Validation accuracy when training from scratch: 68.0%\n"
     ]
    }
   ],
   "source": [
    "import copy\n",
    "trainer = None\n",
    "\n",
    "trainer = pl.Trainer(\n",
    "    max_epochs=15,\n",
    "    gpus=1 if torch.cuda.is_available() else None\n",
    ")\n",
    "\n",
    "trainer.fit(classifier) # train the standard classifier\n",
    "print(\"Validation accuracy when training from scratch: {}%\".format(classifier.getAcc(classifier.val_dataloader())[1]*100))"
   ]
  },
  {
   "cell_type": "markdown",
   "metadata": {
    "id": "_WWoQpMQXAIs",
    "pycharm": {
     "name": "#%% md\n"
    }
   },
   "source": [
    "# 3. Autoencoder\n",
    "\n",
    "One hundred images as training data are not much. How could we improve our performance with limited data? We have no money left to pay our student for more labels, and labeling the data ourselves is out of question. A good idea would be to do data augmentation to get the most out of our few labeled instances, but here we provide another way to solve this problem: we will use our large amount of unlabeled data to do unsupervised pretraining with an autoencoder, and then transfer the weights of our encoder to our classifier.\n",
    "\n",
    "For each image input, the autoencoder just tries to reproduce the same image as output. The difficulty behind is that the autoencoder has to go through a low dimensional bottleneck, which we call the **latent space**.\n",
    "In other words, the autoencoder should learn to represent all the input information in the low dimensional latent space; it learns to compress the input distribution.\n",
    "To make our model learn to reproduce the input, we use the mean squared error between our input pixels and the\n",
    "output pixels as the loss function. For this loss we do not need any labels!\n",
    "\n",
    "![autoencoder](img/autoencoder.png)\n",
    "\n",
    "After this, our encoder has learned to extract meaningful information from the inputs. We can then transfer its weights\n",
    "to a classifier architecture and finetune it with our labeled data, i.e., instead of initializing our encoder randomly we are re-using the weights of our trained encoder from our autoencoder network. This process is called **transfer learning**.\n",
    "\n",
    "![autoencoder_pretrained](img/pretrained.png)\n",
    "\n",
    "## 3.1 Decoder\n",
    "\n",
    "Before we can train our autoencoder, you have to initialize the your `decoder` architecture. The simplest way is to mirror your encoder architecture which ensure that the `latent space` output of our `encoder` is correctly transformed to our input shape.\n",
    "\n",
    "<div class=\"alert alert-info\">\n",
    "    <h3>Task: Implement</h3>\n",
    "    <p>Implement the <code>Decoder</code> and <code>Autoencoder</code> class initialization in <code>exercise_code/models.py</code>.\n",
    "    </p>\n",
    "</div>\n",
    "\n",
    "## 3.2 Autoencoder Training\n",
    "\n",
    "Now, we can train the full autoencoder consisting of both en- and decoder."
   ]
  },
  {
   "cell_type": "code",
   "execution_count": 66,
   "metadata": {
    "id": "Xi4Y8lpcXAIt"
   },
   "outputs": [],
   "source": [
    "from exercise_code.models import Autoencoder, Encoder, Decoder\n",
    "\n",
    "########################################################################\n",
    "# TODO: Define your hyperparameters here!                              #\n",
    "########################################################################\n",
    "\n",
    "hparams_for_decoder = {'n_hidden':[256,128,64], 'batch_size':256}\n",
    "hparams_for_autoencoder = {'n_hidden':[64,256], 'batch_size':256}\n",
    "\n",
    "########################################################################\n",
    "#                           END OF YOUR CODE                           #\n",
    "########################################################################\n",
    "\n",
    "encoder_pretrained = Encoder(hparams_for_encoder)\n",
    "decoder = Decoder(hparams_for_decoder)\n",
    "ae_logger = TensorBoardLogger(save_dir='lightning_logs')\n",
    "autoencoder = Autoencoder(hparams_for_autoencoder, encoder_pretrained, decoder, unlabeled_train, unlabeled_val, ae_logger)"
   ]
  },
  {
   "cell_type": "markdown",
   "metadata": {
    "id": "yEz476R4XAIt"
   },
   "source": [
    "Some tests to check whether we'll accept your model."
   ]
  },
  {
   "cell_type": "code",
   "execution_count": 67,
   "metadata": {
    "id": "Uwu1VC4xXAIt"
   },
   "outputs": [
    {
     "name": "stdout",
     "output_type": "stream",
     "text": [
      "FYI: Your model has 0.488 mio. params.\n",
      "Model accepted!\n"
     ]
    }
   ],
   "source": [
    "from exercise_code.Util import printModelInfo, load_model\n",
    "_ = printModelInfo(autoencoder)"
   ]
  },
  {
   "cell_type": "markdown",
   "metadata": {
    "id": "plQwnphtqggl"
   },
   "source": [
    "Next, we define another trainer to fit our autoencoder. Keep in mind that an epoch here will take much longer since\n",
    "we are iterating through 5,8600 images instead of just 100."
   ]
  },
  {
   "cell_type": "code",
   "execution_count": 73,
   "metadata": {
    "id": "_uuzXMq6zjbb",
    "tags": []
   },
   "outputs": [
    {
     "name": "stderr",
     "output_type": "stream",
     "text": [
      "GPU available: True, used: True\n",
      "TPU available: False, using: 0 TPU cores\n",
      "IPU available: False, using: 0 IPUs\n",
      "HPU available: False, using: 0 HPUs\n",
      "LOCAL_RANK: 0 - CUDA_VISIBLE_DEVICES: [0]\n",
      "\n",
      "  | Name    | Type    | Params\n",
      "------------------------------------\n",
      "0 | encoder | Encoder | 243 K \n",
      "1 | decoder | Decoder | 244 K \n",
      "------------------------------------\n",
      "487 K     Trainable params\n",
      "0         Non-trainable params\n",
      "487 K     Total params\n",
      "1.950     Total estimated model params size (MB)\n"
     ]
    },
    {
     "name": "stdout",
     "output_type": "stream",
     "text": [
      "Epoch 3:  57%|█████▋    | 135/235 [00:12<00:09, 10.44it/s, loss=738, v_num=26]    "
     ]
    },
    {
     "name": "stderr",
     "output_type": "stream",
     "text": [
      "C:\\Users\\User\\anaconda3\\lib\\site-packages\\pytorch_lightning\\trainer\\trainer.py:724: UserWarning: Detected KeyboardInterrupt, attempting graceful shutdown...\n",
      "  rank_zero_warn(\"Detected KeyboardInterrupt, attempting graceful shutdown...\")\n"
     ]
    }
   ],
   "source": [
    "ae_trainer = None\n",
    "\n",
    "########################################################################\n",
    "# TODO: Define your trainer! Don't forget the logger.                  #\n",
    "########################################################################\n",
    "\n",
    "ae_trainer = pl.Trainer(\n",
    "    max_epochs=20,\n",
    "    gpus=1 if torch.cuda.is_available() else None\n",
    ")\n",
    "\n",
    "########################################################################\n",
    "#                           END OF YOUR CODE                           #\n",
    "########################################################################\n",
    "ae_trainer.fit(autoencoder)"
   ]
  },
  {
   "cell_type": "markdown",
   "metadata": {
    "id": "4drAZCqAXAIu"
   },
   "source": [
    "Once trained, let's have a look at the reconstructed validation images (If you have not already looked at them in TensorBoard)."
   ]
  },
  {
   "cell_type": "code",
   "execution_count": 69,
   "metadata": {
    "id": "23GTLKPbXAIu"
   },
   "outputs": [
    {
     "data": {
      "image/png": "[encoded data removed]",
      "text/plain": [
       "<Figure size 432x432 with 64 Axes>"
      ]
     },
     "metadata": {
      "needs_background": "light"
     },
     "output_type": "display_data"
    }
   ],
   "source": [
    "reconstructions = autoencoder.getReconstructions()\n",
    "for i in range(64):\n",
    "    plt.subplot(8,8,i+1)\n",
    "    plt.axis('off')\n",
    "    plt.imshow(reconstructions[i], cmap='gray', interpolation='none')\n",
    "    \n",
    "plt.tight_layout()"
   ]
  },
  {
   "cell_type": "markdown",
   "metadata": {
    "id": "rL4x_b8fXAIu"
   },
   "source": [
    "# 4. Transfer Learning\n",
    "\n",
    "## 4.1 The pretrained Classifier\n",
    "\n",
    "Now we initialize another classifier but this time with the pretrained encoder."
   ]
  },
  {
   "cell_type": "code",
   "execution_count": 70,
   "metadata": {
    "id": "8hy8cpa9XAIv"
   },
   "outputs": [],
   "source": [
    "from exercise_code.models import Classifier\n",
    "\n",
    "hparams = {}\n",
    "########################################################################\n",
    "# TODO: Define your hyper parameters here!                             #\n",
    "########################################################################\n",
    "\n",
    "hparams = {'n_hidden':[64,32], 'batch_size':32}\n",
    "\n",
    "########################################################################\n",
    "#                           END OF YOUR CODE                           #\n",
    "########################################################################\n",
    "classifier_pretrained = Classifier(hparams, encoder_pretrained, train, val, test)"
   ]
  },
  {
   "cell_type": "markdown",
   "metadata": {
    "id": "kLteX-dgXAIv"
   },
   "source": [
    "Now specify another trainer that we will use the pretrained classifier to compare its performance with\n",
    "the classifier we trained on only the labeled data. You might need to optimize the parameters defined above in order to achieve a reasonable result."
   ]
  },
  {
   "cell_type": "code",
   "execution_count": 71,
   "metadata": {
    "id": "RxtDkPJNXAIv"
   },
   "outputs": [
    {
     "name": "stderr",
     "output_type": "stream",
     "text": [
      "GPU available: True, used: True\n",
      "TPU available: False, using: 0 TPU cores\n",
      "IPU available: False, using: 0 IPUs\n",
      "HPU available: False, using: 0 HPUs\n",
      "LOCAL_RANK: 0 - CUDA_VISIBLE_DEVICES: [0]\n",
      "\n",
      "  | Name    | Type       | Params\n",
      "---------------------------------------\n",
      "0 | encoder | Encoder    | 243 K \n",
      "1 | model   | Sequential | 3.8 K \n",
      "---------------------------------------\n",
      "247 K     Trainable params\n",
      "0         Non-trainable params\n",
      "247 K     Total params\n",
      "0.989     Total estimated model params size (MB)\n"
     ]
    },
    {
     "name": "stdout",
     "output_type": "stream",
     "text": [
      "Epoch 49: 100%|██████████| 8/8 [00:05<00:00,  1.35it/s, loss=0.00371, v_num=25]\n"
     ]
    }
   ],
   "source": [
    "trainer = None\n",
    "\n",
    "########################################################################\n",
    "# TODO: Define your trainer! Don't forget the logger.                  # \n",
    "# Hint: Choose an appropriate logging frequency in your trainer.       #\n",
    "########################################################################\n",
    "\n",
    "trainer = pl.Trainer(\n",
    "    max_epochs=50,\n",
    "    gpus=1 if torch.cuda.is_available() else None\n",
    ")\n",
    "\n",
    "########################################################################\n",
    "#                           END OF YOUR CODE                           #\n",
    "########################################################################\n",
    "trainer.fit(classifier_pretrained) # train the standard classifier"
   ]
  },
  {
   "cell_type": "markdown",
   "metadata": {
    "id": "c2WRtGnqXAIv"
   },
   "source": [
    "Let's have a look at the validation accuracy of the two different classifiers and compare them. And don't forget that you can also monitor your training in TensorBoard.\n",
    "\n",
    "We will only look at the test accuracy and compare our two classifiers with respect to that in the very end."
   ]
  },
  {
   "cell_type": "code",
   "execution_count": 72,
   "metadata": {
    "id": "CXTED0-rXAIv"
   },
   "outputs": [
    {
     "name": "stdout",
     "output_type": "stream",
     "text": [
      "Validation accuracy when training from scratch: 73.0%\n",
      "Validation accuracy with pretraining: 61.0%\n"
     ]
    }
   ],
   "source": [
    "print(\"Validation accuracy when training from scratch: {}%\".format(classifier.getAcc(classifier.val_dataloader())[1]*100))\n",
    "print(\"Validation accuracy with pretraining: {}%\".format(classifier_pretrained.getAcc(classifier.val_dataloader())[1]*100))"
   ]
  },
  {
   "cell_type": "markdown",
   "metadata": {
    "id": "zAp2OTyf4_5b"
   },
   "source": [
    "Now that everything is working, feel free to play around with different architectures. As you've seen, it's really easy to define your model or do changes there.\n",
    "\n",
    "To pass this submission, you'll need an accuracy of **55%**."
   ]
  },
  {
   "cell_type": "markdown",
   "metadata": {
    "id": "OmEYmRT-5S-e"
   },
   "source": [
    "# Save your model & Report Test Accuracy\n",
    "\n",
    "When you've done with your **hyperparameter tuning**, have achieved **at least 55% validation accuracy** and are happy with your final model, you can save it here.\n",
    "\n",
    "Before that, please check again whether the number of parameters is below 5 Mio and the file size is below 20 MB.\n",
    "\n",
    "When your final model is saved, we'll lastly report the test accuracy."
   ]
  },
  {
   "cell_type": "code",
   "execution_count": null,
   "metadata": {
    "id": "S69ETKxD5TcE"
   },
   "outputs": [
    {
     "name": "stdout",
     "output_type": "stream",
     "text": [
      "Test accuracy when training from scratch: 70.0%\n",
      "\n",
      "Now to the pretrained classifier:\n",
      "Validation-Accuracy: 77.0%\n",
      "FYI: Your model has 3.528 mio. params.\n",
      "Great! Your model size is less than 20 MB and will be accepted :)\n",
      "Your model has been saved and is ready to be submitted. NOW, let's check the test-accuracy.\n",
      "Test-Accuracy: 80.0%\n"
     ]
    }
   ],
   "source": [
    "from exercise_code.Util import test_and_save\n",
    "\n",
    "print(\"Test accuracy when training from scratch: {}%\".format(classifier.getAcc()[1]*100))\n",
    "print('\\nNow to the pretrained classifier:')\n",
    "test_and_save(classifier_pretrained)"
   ]
  },
  {
   "cell_type": "code",
   "execution_count": null,
   "metadata": {
    "id": "QoKfCe0GXAIw"
   },
   "outputs": [
    {
     "name": "stdout",
     "output_type": "stream",
     "text": [
      "relevant folders: ['models', 'exercise_code']\n",
      "notebooks files: ['1_Autoencoder_PyTorch_Lightning.ipynb', 'Optional-BatchNormalization&Dropout.ipynb', '3.pytorch_lightning.ipynb']\n",
      "Adding folder models\n",
      "Adding folder exercise_code\n",
      "Adding notebook 1_Autoencoder_PyTorch_Lightning.ipynb\n",
      "Adding notebook Optional-BatchNormalization&Dropout.ipynb\n",
      "Adding notebook 3.pytorch_lightning.ipynb\n",
      "Zipping successful! Zip is stored under: /tf/dv/hw8/exercise08.zip\n"
     ]
    }
   ],
   "source": [
    "# Now zip the folder for upload\n",
    "from exercise_code.submit import submit_exercise\n",
    "\n",
    "submit_exercise('exercise08')"
   ]
  },
  {
   "cell_type": "markdown",
   "metadata": {
    "id": "zmuAlwhmXAIw",
    "pycharm": {
     "name": "#%% md\n"
    }
   },
   "source": [
    "Congrats! You've now finished your first autoencoder and transferred the weights to a classifier! Much easier than in plain numpy, right? But wait, to complete the exercise\n",
    "\n",
    "# Submission Goals\n",
    "\n",
    "- Goal: Successfully implement a fully connected autoencoder for MNIST with Pytorch Lightning and transfer the encoder weights to a classifier.\n",
    "\n"
   ]
  }
 ],
 "metadata": {
  "accelerator": "GPU",
  "colab": {
   "collapsed_sections": [],
   "name": "1_Autoencoder_PyTorch_Lightning.ipynb",
   "provenance": [],
   "toc_visible": true
  },
  "kernelspec": {
   "display_name": "Python 3",
   "language": "python",
   "name": "python3"
  },
  "language_info": {
   "codemirror_mode": {
    "name": "ipython",
    "version": 3
   },
   "file_extension": ".py",
   "mimetype": "text/x-python",
   "name": "python",
   "nbconvert_exporter": "python",
   "pygments_lexer": "ipython3",
   "version": "3.8.10"
  }
 },
 "nbformat": 4,
 "nbformat_minor": 1
}
